{
 "cells": [
  {
   "cell_type": "code",
   "execution_count": 6,
   "id": "28dd7a7e",
   "metadata": {},
   "outputs": [],
   "source": [
    "import numpy\n",
    "import matplotlib.pyplot as plt\n",
    "import pandas\n",
    "import math\n",
    "from keras.models import Sequential\n",
    "from keras.layers import Dense\n",
    "from keras.layers import LSTM\n",
    "from sklearn.preprocessing import MinMaxScaler\n",
    "from sklearn.metrics import mean_squared_error"
   ]
  },
  {
   "cell_type": "code",
   "execution_count": 7,
   "id": "f5173fdc",
   "metadata": {},
   "outputs": [
    {
     "name": "stdout",
     "output_type": "stream",
     "text": [
      "File ‘airline-passengers.csv’ already there; not retrieving.\n",
      "\n"
     ]
    }
   ],
   "source": [
    "!wget -nc https://raw.githubusercontent.com/jbrownlee/Datasets/master/airline-passengers.csv"
   ]
  },
  {
   "cell_type": "code",
   "execution_count": 9,
   "id": "e191b4a2",
   "metadata": {},
   "outputs": [
    {
     "data": {
      "text/plain": [
       "array([[112.],\n",
       "       [118.],\n",
       "       [132.],\n",
       "       [129.],\n",
       "       [121.],\n",
       "       [135.],\n",
       "       [148.],\n",
       "       [148.],\n",
       "       [136.],\n",
       "       [119.]], dtype=float32)"
      ]
     },
     "execution_count": 9,
     "metadata": {},
     "output_type": "execute_result"
    }
   ],
   "source": [
    "dataframe = pandas.read_csv('airline-passengers.csv', usecols=[1])\n",
    "dataset = dataframe.values\n",
    "dataset = dataset.astype('float32')\n",
    "dataset[:10]"
   ]
  },
  {
   "cell_type": "code",
   "execution_count": 10,
   "id": "7d09337b",
   "metadata": {},
   "outputs": [
    {
     "data": {
      "text/plain": [
       "array([[0.01544401],\n",
       "       [0.02702703],\n",
       "       [0.05405405],\n",
       "       [0.04826255],\n",
       "       [0.03281853],\n",
       "       [0.05984557],\n",
       "       [0.08494207],\n",
       "       [0.08494207],\n",
       "       [0.06177607],\n",
       "       [0.02895753]], dtype=float32)"
      ]
     },
     "execution_count": 10,
     "metadata": {},
     "output_type": "execute_result"
    }
   ],
   "source": [
    "# LSTM sensitive to scale, especially with sigmoid and tanh functions.\n",
    "scaler = MinMaxScaler(feature_range=(0, 1))\n",
    "dataset = scaler.fit_transform(dataset)\n",
    "dataset[:10]"
   ]
  },
  {
   "cell_type": "code",
   "execution_count": 11,
   "id": "b1e0b45e",
   "metadata": {},
   "outputs": [
    {
     "name": "stdout",
     "output_type": "stream",
     "text": [
      "train_size:  96\n",
      "test_size:  48\n",
      "combined:  144\n"
     ]
    }
   ],
   "source": [
    "# split into train and test sets\n",
    "train_size = int(len(dataset) * 0.67)\n",
    "test_size = len(dataset) - train_size\n",
    "train, test = dataset[0:train_size,:], dataset[train_size:len(dataset),:]\n",
    "print(\"train_size: \", train_size)\n",
    "print(\"test_size: \", test_size)\n",
    "print(\"combined: \", train_size+test_size)\n"
   ]
  },
  {
   "cell_type": "code",
   "execution_count": 12,
   "id": "4803e509",
   "metadata": {},
   "outputs": [
    {
     "data": {
      "text/plain": [
       "array([[0.01544401],\n",
       "       [0.02702703],\n",
       "       [0.05405405],\n",
       "       [0.04826255],\n",
       "       [0.03281853],\n",
       "       [0.05984557],\n",
       "       [0.08494207],\n",
       "       [0.08494207],\n",
       "       [0.06177607],\n",
       "       [0.02895753]], dtype=float32)"
      ]
     },
     "execution_count": 12,
     "metadata": {},
     "output_type": "execute_result"
    }
   ],
   "source": [
    "train[:10]"
   ]
  },
  {
   "cell_type": "code",
   "execution_count": 13,
   "id": "a2beb18c",
   "metadata": {},
   "outputs": [
    {
     "data": {
      "text/plain": [
       "array([[0.4073359 ],\n",
       "       [0.3803089 ],\n",
       "       [0.48648646],\n",
       "       [0.47104248],\n",
       "       [0.484556  ],\n",
       "       [0.6138996 ],\n",
       "       [0.6969112 ],\n",
       "       [0.70077217],\n",
       "       [0.57915056],\n",
       "       [0.46911195]], dtype=float32)"
      ]
     },
     "execution_count": 13,
     "metadata": {},
     "output_type": "execute_result"
    }
   ],
   "source": [
    "test[:10]"
   ]
  },
  {
   "cell_type": "code",
   "execution_count": 14,
   "id": "6cc3c010",
   "metadata": {},
   "outputs": [],
   "source": [
    "# convert an array of values into a dataset matrix\n",
    "def create_dataset(dataset, look_back=1):\n",
    "    \"\"\"\n",
    "    Function that creates a new dataset\n",
    "    Parameters:\n",
    "        dataset (numpy array): numpy array that is to be converted to a dataset/\n",
    "        look_back (int): number of previous steps to use as input variables to predict the next time period\n",
    "        \n",
    "    Returns:\n",
    "        dataX (numpy array): number of passenders at a given time (t)\n",
    "        dataY (numpy array): number of passengers at the next time (t+1)\n",
    "    \"\"\"\n",
    "    dataX, dataY = [], []\n",
    "    for i in range(len(dataset) - look_back-1):\n",
    "        a = dataset[i:(i+look_back), 0]\n",
    "        dataX.append(a)\n",
    "        dataY.append(dataset[i + look_back, 0])\n",
    "    return numpy.array(dataX), numpy.array(dataY)"
   ]
  },
  {
   "cell_type": "code",
   "execution_count": 15,
   "id": "fc9fa9c7",
   "metadata": {},
   "outputs": [],
   "source": [
    "# reshape into X=t and Y=t+1\n",
    "look_back = 3\n",
    "trainX, trainY = create_dataset(train, look_back)\n",
    "testX, testY = create_dataset(test, look_back)"
   ]
  },
  {
   "cell_type": "code",
   "execution_count": 16,
   "id": "2f9e19e0",
   "metadata": {},
   "outputs": [
    {
     "data": {
      "text/plain": [
       "array([[0.01544401, 0.02702703, 0.05405405],\n",
       "       [0.02702703, 0.05405405, 0.04826255],\n",
       "       [0.05405405, 0.04826255, 0.03281853],\n",
       "       [0.04826255, 0.03281853, 0.05984557],\n",
       "       [0.03281853, 0.05984557, 0.08494207]], dtype=float32)"
      ]
     },
     "execution_count": 16,
     "metadata": {},
     "output_type": "execute_result"
    }
   ],
   "source": [
    "trainX[:5]"
   ]
  },
  {
   "cell_type": "code",
   "execution_count": 17,
   "id": "fdf37c36",
   "metadata": {},
   "outputs": [
    {
     "data": {
      "text/plain": [
       "array([0.04826255, 0.03281853, 0.05984557, 0.08494207, 0.08494207],\n",
       "      dtype=float32)"
      ]
     },
     "execution_count": 17,
     "metadata": {},
     "output_type": "execute_result"
    }
   ],
   "source": [
    "trainY[:5]"
   ]
  },
  {
   "cell_type": "code",
   "execution_count": 18,
   "id": "38ab9b78",
   "metadata": {},
   "outputs": [],
   "source": [
    "# LSTM network expects input data (X) to be provided with a specific array structure in the form of [samples, timestep, features]\n",
    "# reshape input to be [samples, time steps, features]\n",
    "trainX = numpy.reshape(trainX, (trainX.shape[0], 1, trainX.shape[1]))\n",
    "testX = numpy.reshape(testX, (testX.shape[0], 1, testX.shape[1]))"
   ]
  },
  {
   "cell_type": "code",
   "execution_count": 19,
   "id": "c8feff2b",
   "metadata": {},
   "outputs": [
    {
     "data": {
      "text/plain": [
       "array([[[0.01544401, 0.02702703, 0.05405405]],\n",
       "\n",
       "       [[0.02702703, 0.05405405, 0.04826255]],\n",
       "\n",
       "       [[0.05405405, 0.04826255, 0.03281853]],\n",
       "\n",
       "       [[0.04826255, 0.03281853, 0.05984557]],\n",
       "\n",
       "       [[0.03281853, 0.05984557, 0.08494207]]], dtype=float32)"
      ]
     },
     "execution_count": 19,
     "metadata": {},
     "output_type": "execute_result"
    }
   ],
   "source": [
    "trainX[:5]"
   ]
  },
  {
   "cell_type": "code",
   "execution_count": 20,
   "id": "54d8c3c5",
   "metadata": {},
   "outputs": [
    {
     "name": "stdout",
     "output_type": "stream",
     "text": [
      "WARNING:tensorflow:From /home/ec2-user/anaconda3/envs/amazonei_tensorflow_p36/lib/python3.6/site-packages/tensorflow_core/python/ops/resource_variable_ops.py:1630: calling BaseResourceVariable.__init__ (from tensorflow.python.ops.resource_variable_ops) with constraint is deprecated and will be removed in a future version.\n",
      "Instructions for updating:\n",
      "If using Keras pass *_constraint arguments to layers.\n",
      "WARNING:tensorflow:From /home/ec2-user/anaconda3/envs/amazonei_tensorflow_p36/lib/python3.6/site-packages/keras/backend/tensorflow_backend.py:422: The name tf.global_variables is deprecated. Please use tf.compat.v1.global_variables instead.\n",
      "\n",
      "Train on 73 samples, validate on 19 samples\n",
      "Epoch 1/100\n",
      "73/73 [==============================] - 1s 8ms/step - loss: 0.0113 - val_loss: 0.0386\n",
      "Epoch 2/100\n",
      "73/73 [==============================] - 0s 2ms/step - loss: 0.0040 - val_loss: 0.0215\n",
      "Epoch 3/100\n",
      "73/73 [==============================] - 0s 2ms/step - loss: 0.0035 - val_loss: 0.0195\n",
      "Epoch 4/100\n",
      "73/73 [==============================] - 0s 2ms/step - loss: 0.0032 - val_loss: 0.0163\n",
      "Epoch 5/100\n",
      "73/73 [==============================] - 0s 2ms/step - loss: 0.0030 - val_loss: 0.0144\n",
      "Epoch 6/100\n",
      "73/73 [==============================] - 0s 2ms/step - loss: 0.0028 - val_loss: 0.0139\n",
      "Epoch 7/100\n",
      "73/73 [==============================] - 0s 2ms/step - loss: 0.0026 - val_loss: 0.0119\n",
      "Epoch 8/100\n",
      "73/73 [==============================] - 0s 2ms/step - loss: 0.0025 - val_loss: 0.0112\n",
      "Epoch 9/100\n",
      "73/73 [==============================] - 0s 2ms/step - loss: 0.0024 - val_loss: 0.0109\n",
      "Epoch 10/100\n",
      "73/73 [==============================] - 0s 2ms/step - loss: 0.0023 - val_loss: 0.0097\n",
      "Epoch 11/100\n",
      "73/73 [==============================] - 0s 2ms/step - loss: 0.0022 - val_loss: 0.0087\n",
      "Epoch 12/100\n",
      "73/73 [==============================] - 0s 2ms/step - loss: 0.0022 - val_loss: 0.0081\n",
      "Epoch 13/100\n",
      "73/73 [==============================] - 0s 2ms/step - loss: 0.0021 - val_loss: 0.0084\n",
      "Epoch 14/100\n",
      "73/73 [==============================] - 0s 2ms/step - loss: 0.0021 - val_loss: 0.0079\n",
      "Epoch 15/100\n",
      "73/73 [==============================] - 0s 2ms/step - loss: 0.0021 - val_loss: 0.0077\n",
      "Epoch 16/100\n",
      "73/73 [==============================] - 0s 2ms/step - loss: 0.0021 - val_loss: 0.0074\n",
      "Epoch 17/100\n",
      "73/73 [==============================] - 0s 2ms/step - loss: 0.0021 - val_loss: 0.0073\n",
      "Epoch 18/100\n",
      "73/73 [==============================] - 0s 2ms/step - loss: 0.0021 - val_loss: 0.0074\n",
      "Epoch 19/100\n",
      "73/73 [==============================] - 0s 2ms/step - loss: 0.0020 - val_loss: 0.0073\n",
      "Epoch 20/100\n",
      "73/73 [==============================] - 0s 2ms/step - loss: 0.0020 - val_loss: 0.0071\n",
      "Epoch 21/100\n",
      "73/73 [==============================] - 0s 2ms/step - loss: 0.0020 - val_loss: 0.0078\n",
      "Epoch 22/100\n",
      "73/73 [==============================] - 0s 2ms/step - loss: 0.0020 - val_loss: 0.0072\n",
      "Epoch 23/100\n",
      "73/73 [==============================] - 0s 2ms/step - loss: 0.0019 - val_loss: 0.0070\n",
      "Epoch 24/100\n",
      "73/73 [==============================] - 0s 2ms/step - loss: 0.0019 - val_loss: 0.0072\n",
      "Epoch 25/100\n",
      "73/73 [==============================] - 0s 2ms/step - loss: 0.0020 - val_loss: 0.0069\n",
      "Epoch 26/100\n",
      "73/73 [==============================] - 0s 2ms/step - loss: 0.0019 - val_loss: 0.0068\n",
      "Epoch 27/100\n",
      "73/73 [==============================] - 0s 2ms/step - loss: 0.0019 - val_loss: 0.0067\n",
      "Epoch 28/100\n",
      "73/73 [==============================] - 0s 2ms/step - loss: 0.0019 - val_loss: 0.0068\n",
      "Epoch 29/100\n",
      "73/73 [==============================] - 0s 2ms/step - loss: 0.0018 - val_loss: 0.0067\n",
      "Epoch 30/100\n",
      "73/73 [==============================] - 0s 2ms/step - loss: 0.0019 - val_loss: 0.0064\n",
      "Epoch 31/100\n",
      "73/73 [==============================] - 0s 2ms/step - loss: 0.0019 - val_loss: 0.0065\n",
      "Epoch 32/100\n",
      "73/73 [==============================] - 0s 2ms/step - loss: 0.0018 - val_loss: 0.0068\n",
      "Epoch 33/100\n",
      "73/73 [==============================] - 0s 2ms/step - loss: 0.0018 - val_loss: 0.0063\n",
      "Epoch 34/100\n",
      "73/73 [==============================] - 0s 2ms/step - loss: 0.0018 - val_loss: 0.0063\n",
      "Epoch 35/100\n",
      "73/73 [==============================] - 0s 2ms/step - loss: 0.0018 - val_loss: 0.0061\n",
      "Epoch 36/100\n",
      "73/73 [==============================] - 0s 2ms/step - loss: 0.0017 - val_loss: 0.0063\n",
      "Epoch 37/100\n",
      "73/73 [==============================] - 0s 2ms/step - loss: 0.0018 - val_loss: 0.0062\n",
      "Epoch 38/100\n",
      "73/73 [==============================] - 0s 2ms/step - loss: 0.0018 - val_loss: 0.0063\n",
      "Epoch 39/100\n",
      "73/73 [==============================] - 0s 2ms/step - loss: 0.0017 - val_loss: 0.0059\n",
      "Epoch 40/100\n",
      "73/73 [==============================] - 0s 2ms/step - loss: 0.0017 - val_loss: 0.0063\n",
      "Epoch 41/100\n",
      "73/73 [==============================] - 0s 2ms/step - loss: 0.0017 - val_loss: 0.0068\n",
      "Epoch 42/100\n",
      "73/73 [==============================] - 0s 2ms/step - loss: 0.0018 - val_loss: 0.0059\n",
      "Epoch 43/100\n",
      "73/73 [==============================] - 0s 2ms/step - loss: 0.0017 - val_loss: 0.0063\n",
      "Epoch 44/100\n",
      "73/73 [==============================] - 0s 2ms/step - loss: 0.0017 - val_loss: 0.0057\n",
      "Epoch 45/100\n",
      "73/73 [==============================] - 0s 2ms/step - loss: 0.0017 - val_loss: 0.0058\n",
      "Epoch 46/100\n",
      "73/73 [==============================] - 0s 2ms/step - loss: 0.0018 - val_loss: 0.0056\n",
      "Epoch 47/100\n",
      "73/73 [==============================] - 0s 2ms/step - loss: 0.0017 - val_loss: 0.0059\n",
      "Epoch 48/100\n",
      "73/73 [==============================] - 0s 2ms/step - loss: 0.0016 - val_loss: 0.0054\n",
      "Epoch 49/100\n",
      "73/73 [==============================] - 0s 2ms/step - loss: 0.0017 - val_loss: 0.0061\n",
      "Epoch 50/100\n",
      "73/73 [==============================] - 0s 2ms/step - loss: 0.0016 - val_loss: 0.0056\n",
      "Epoch 51/100\n",
      "73/73 [==============================] - 0s 2ms/step - loss: 0.0016 - val_loss: 0.0054\n",
      "Epoch 52/100\n",
      "73/73 [==============================] - 0s 2ms/step - loss: 0.0017 - val_loss: 0.0055\n",
      "Epoch 53/100\n",
      "73/73 [==============================] - 0s 2ms/step - loss: 0.0017 - val_loss: 0.0056\n",
      "Epoch 54/100\n",
      "73/73 [==============================] - 0s 2ms/step - loss: 0.0016 - val_loss: 0.0051\n",
      "Epoch 55/100\n",
      "73/73 [==============================] - 0s 2ms/step - loss: 0.0016 - val_loss: 0.0056\n",
      "Epoch 56/100\n",
      "73/73 [==============================] - 0s 2ms/step - loss: 0.0017 - val_loss: 0.0053\n",
      "Epoch 57/100\n",
      "73/73 [==============================] - 0s 2ms/step - loss: 0.0016 - val_loss: 0.0050\n",
      "Epoch 58/100\n",
      "73/73 [==============================] - 0s 2ms/step - loss: 0.0016 - val_loss: 0.0051\n",
      "Epoch 59/100\n",
      "73/73 [==============================] - 0s 2ms/step - loss: 0.0016 - val_loss: 0.0058\n",
      "Epoch 60/100\n",
      "73/73 [==============================] - 0s 2ms/step - loss: 0.0017 - val_loss: 0.0059\n",
      "Epoch 61/100\n",
      "73/73 [==============================] - 0s 2ms/step - loss: 0.0015 - val_loss: 0.0051\n",
      "Epoch 62/100\n",
      "73/73 [==============================] - 0s 2ms/step - loss: 0.0016 - val_loss: 0.0055\n",
      "Epoch 63/100\n",
      "73/73 [==============================] - 0s 2ms/step - loss: 0.0015 - val_loss: 0.0051\n",
      "Epoch 64/100\n",
      "73/73 [==============================] - 0s 2ms/step - loss: 0.0015 - val_loss: 0.0052\n",
      "Epoch 65/100\n",
      "73/73 [==============================] - 0s 2ms/step - loss: 0.0016 - val_loss: 0.0047\n",
      "Epoch 66/100\n",
      "73/73 [==============================] - 0s 2ms/step - loss: 0.0016 - val_loss: 0.0052\n",
      "Epoch 67/100\n",
      "73/73 [==============================] - 0s 2ms/step - loss: 0.0016 - val_loss: 0.0047\n",
      "Epoch 68/100\n",
      "73/73 [==============================] - 0s 2ms/step - loss: 0.0016 - val_loss: 0.0048\n",
      "Epoch 69/100\n",
      "73/73 [==============================] - 0s 2ms/step - loss: 0.0015 - val_loss: 0.0049\n",
      "Epoch 70/100\n",
      "73/73 [==============================] - 0s 2ms/step - loss: 0.0015 - val_loss: 0.0056\n",
      "Epoch 71/100\n",
      "73/73 [==============================] - 0s 2ms/step - loss: 0.0016 - val_loss: 0.0050\n",
      "Epoch 72/100\n",
      "73/73 [==============================] - 0s 2ms/step - loss: 0.0015 - val_loss: 0.0049\n",
      "Epoch 73/100\n",
      "73/73 [==============================] - 0s 2ms/step - loss: 0.0015 - val_loss: 0.0048\n",
      "Epoch 74/100\n",
      "73/73 [==============================] - 0s 2ms/step - loss: 0.0015 - val_loss: 0.0055\n",
      "Epoch 75/100\n",
      "73/73 [==============================] - 0s 2ms/step - loss: 0.0015 - val_loss: 0.0048\n",
      "Epoch 76/100\n",
      "73/73 [==============================] - 0s 2ms/step - loss: 0.0015 - val_loss: 0.0045\n",
      "Epoch 77/100\n",
      "73/73 [==============================] - 0s 2ms/step - loss: 0.0015 - val_loss: 0.0049\n",
      "Epoch 78/100\n",
      "73/73 [==============================] - 0s 2ms/step - loss: 0.0015 - val_loss: 0.0051\n",
      "Epoch 79/100\n",
      "73/73 [==============================] - 0s 2ms/step - loss: 0.0015 - val_loss: 0.0045\n",
      "Epoch 80/100\n",
      "73/73 [==============================] - 0s 2ms/step - loss: 0.0014 - val_loss: 0.0053\n",
      "Epoch 81/100\n",
      "73/73 [==============================] - 0s 2ms/step - loss: 0.0015 - val_loss: 0.0049\n",
      "Epoch 82/100\n",
      "73/73 [==============================] - 0s 2ms/step - loss: 0.0015 - val_loss: 0.0055\n",
      "Epoch 83/100\n",
      "73/73 [==============================] - 0s 2ms/step - loss: 0.0015 - val_loss: 0.0043\n",
      "Epoch 84/100\n",
      "73/73 [==============================] - 0s 2ms/step - loss: 0.0015 - val_loss: 0.0043\n",
      "Epoch 85/100\n",
      "73/73 [==============================] - 0s 2ms/step - loss: 0.0014 - val_loss: 0.0046\n",
      "Epoch 86/100\n",
      "73/73 [==============================] - 0s 2ms/step - loss: 0.0014 - val_loss: 0.0046\n",
      "Epoch 87/100\n",
      "73/73 [==============================] - 0s 2ms/step - loss: 0.0014 - val_loss: 0.0043\n",
      "Epoch 88/100\n",
      "73/73 [==============================] - 0s 2ms/step - loss: 0.0015 - val_loss: 0.0040\n",
      "Epoch 89/100\n",
      "73/73 [==============================] - 0s 2ms/step - loss: 0.0015 - val_loss: 0.0041\n",
      "Epoch 90/100\n",
      "73/73 [==============================] - 0s 2ms/step - loss: 0.0014 - val_loss: 0.0048\n",
      "Epoch 91/100\n",
      "73/73 [==============================] - 0s 2ms/step - loss: 0.0014 - val_loss: 0.0040\n",
      "Epoch 92/100\n",
      "73/73 [==============================] - 0s 2ms/step - loss: 0.0014 - val_loss: 0.0045\n",
      "Epoch 93/100\n",
      "73/73 [==============================] - 0s 2ms/step - loss: 0.0014 - val_loss: 0.0045\n",
      "Epoch 94/100\n",
      "73/73 [==============================] - 0s 2ms/step - loss: 0.0015 - val_loss: 0.0055\n",
      "Epoch 95/100\n",
      "73/73 [==============================] - 0s 2ms/step - loss: 0.0015 - val_loss: 0.0045\n",
      "Epoch 96/100\n",
      "73/73 [==============================] - 0s 2ms/step - loss: 0.0015 - val_loss: 0.0053\n",
      "Epoch 97/100\n",
      "73/73 [==============================] - 0s 2ms/step - loss: 0.0014 - val_loss: 0.0048\n",
      "Epoch 98/100\n",
      "73/73 [==============================] - 0s 2ms/step - loss: 0.0015 - val_loss: 0.0048\n",
      "Epoch 99/100\n",
      "73/73 [==============================] - 0s 2ms/step - loss: 0.0015 - val_loss: 0.0045\n",
      "Epoch 100/100\n",
      "73/73 [==============================] - 0s 2ms/step - loss: 0.0015 - val_loss: 0.0052\n"
     ]
    }
   ],
   "source": [
    "# create and fit the LSTM network\n",
    "model = Sequential()\n",
    "model.add(LSTM(4, input_shape=(1, look_back)))\n",
    "model.add(Dense(1))\n",
    "model.compile(loss='mean_squared_error', optimizer='adam')\n",
    "history = model.fit(trainX, trainY, epochs=100, batch_size=1, verbose=1, validation_split=0.2)"
   ]
  },
  {
   "cell_type": "code",
   "execution_count": 21,
   "id": "117dbada",
   "metadata": {},
   "outputs": [
    {
     "name": "stdout",
     "output_type": "stream",
     "text": [
      "dict_keys(['val_loss', 'loss'])\n"
     ]
    }
   ],
   "source": [
    "print(history.history.keys())"
   ]
  },
  {
   "cell_type": "code",
   "execution_count": 22,
   "id": "bdb2fe99",
   "metadata": {},
   "outputs": [
    {
     "data": {
      "image/png": "[encoded data removed]",
      "text/plain": [
       "<Figure size 432x288 with 1 Axes>"
      ]
     },
     "metadata": {
      "needs_background": "light"
     },
     "output_type": "display_data"
    }
   ],
   "source": [
    "plt.plot(history.history['loss'])\n",
    "plt.title('model accuracy')\n",
    "plt.ylabel('accuracy')\n",
    "plt.xlabel('epoch')\n",
    "plt.legend(['train'], loc='upper right')\n",
    "plt.show()"
   ]
  },
  {
   "cell_type": "code",
   "execution_count": 23,
   "id": "b2de357e",
   "metadata": {},
   "outputs": [
    {
     "data": {
      "image/png": "[encoded data removed]",
      "text/plain": [
       "<Figure size 432x288 with 1 Axes>"
      ]
     },
     "metadata": {
      "needs_background": "light"
     },
     "output_type": "display_data"
    }
   ],
   "source": [
    "plt.plot(history.history['val_loss'])\n",
    "plt.title('model accuracy')\n",
    "plt.ylabel('accuracy')\n",
    "plt.xlabel('epoch')\n",
    "plt.legend(['val_loss'], loc='upper right')\n",
    "plt.show()"
   ]
  },
  {
   "cell_type": "code",
   "execution_count": 24,
   "id": "e5d69dfa",
   "metadata": {},
   "outputs": [],
   "source": [
    "# make predictions\n",
    "trainPredict = model.predict(trainX)\n",
    "testPredict = model.predict(testX)"
   ]
  },
  {
   "cell_type": "code",
   "execution_count": 25,
   "id": "1d5d2e0b",
   "metadata": {},
   "outputs": [
    {
     "data": {
      "text/plain": [
       "array([0.05863129, 0.05722386, 0.04272173, 0.06260049, 0.08761398],\n",
       "      dtype=float32)"
      ]
     },
     "execution_count": 25,
     "metadata": {},
     "output_type": "execute_result"
    }
   ],
   "source": [
    "trainPredict[:5].ravel()"
   ]
  },
  {
   "cell_type": "code",
   "execution_count": 26,
   "id": "ab538230",
   "metadata": {},
   "outputs": [
    {
     "data": {
      "text/plain": [
       "array([0.01544401, 0.02702703, 0.05405405, 0.02702703, 0.05405405,\n",
       "       0.04826255, 0.05405405, 0.04826255, 0.03281853, 0.04826255,\n",
       "       0.03281853, 0.05984557, 0.03281853, 0.05984557, 0.08494207],\n",
       "      dtype=float32)"
      ]
     },
     "execution_count": 26,
     "metadata": {},
     "output_type": "execute_result"
    }
   ],
   "source": [
    "trainX[:5].ravel()"
   ]
  },
  {
   "cell_type": "code",
   "execution_count": 27,
   "id": "9c98ad32",
   "metadata": {},
   "outputs": [],
   "source": [
    "# invert predictions\n",
    "trainPredict = scaler.inverse_transform(trainPredict)\n",
    "trainY = scaler.inverse_transform([trainY])\n",
    "testPredict = scaler.inverse_transform(testPredict)\n",
    "testY = scaler.inverse_transform([testY])"
   ]
  },
  {
   "cell_type": "code",
   "execution_count": 28,
   "id": "6f7c5b33",
   "metadata": {},
   "outputs": [
    {
     "name": "stdout",
     "output_type": "stream",
     "text": [
      "Train Score: 24.31 RMSE\n",
      "Test Score: 64.45 RMSE\n"
     ]
    }
   ],
   "source": [
    "# calculate root mean squared error\n",
    "trainScore = math.sqrt(mean_squared_error(trainY[0], trainPredict[:,0]))\n",
    "print('Train Score: %.2f RMSE' % (trainScore))\n",
    "testScore = math.sqrt(mean_squared_error(testY[0], testPredict[:,0]))\n",
    "print('Test Score: %.2f RMSE' % (testScore))"
   ]
  },
  {
   "cell_type": "code",
   "execution_count": 29,
   "id": "e8e857ba",
   "metadata": {},
   "outputs": [],
   "source": [
    "# shift train predictions for plotting\n",
    "trainPredictPlot = numpy.empty_like(dataset)\n",
    "trainPredictPlot[:, :] = numpy.nan\n",
    "trainPredictPlot[look_back:len(trainPredict)+look_back, :] = trainPredict\n"
   ]
  },
  {
   "cell_type": "code",
   "execution_count": 30,
   "id": "8690dc0f",
   "metadata": {},
   "outputs": [],
   "source": [
    "# shift test predictions for plotting\n",
    "testPredictPlot = numpy.empty_like(dataset)\n",
    "testPredictPlot[:, :] = numpy.nan\n",
    "testPredictPlot[len(trainPredict)+(look_back*2)+1:len(dataset)-1, :] = testPredict\n"
   ]
  },
  {
   "cell_type": "code",
   "execution_count": 31,
   "id": "39ce688e",
   "metadata": {},
   "outputs": [
    {
     "data": {
      "image/png": "[encoded data removed]",
      "text/plain": [
       "<Figure size 432x288 with 1 Axes>"
      ]
     },
     "metadata": {
      "needs_background": "light"
     },
     "output_type": "display_data"
    }
   ],
   "source": [
    "# plot baseline and predictions\n",
    "plt.plot(scaler.inverse_transform(dataset))\n",
    "plt.plot(trainPredictPlot)\n",
    "plt.plot(testPredictPlot)\n",
    "plt.show()"
   ]
  },
  {
   "cell_type": "code",
   "execution_count": null,
   "id": "eeff55be",
   "metadata": {},
   "outputs": [],
   "source": []
  },
  {
   "cell_type": "code",
   "execution_count": null,
   "id": "426902b1",
   "metadata": {},
   "outputs": [],
   "source": []
  }
 ],
 "metadata": {
  "kernelspec": {
   "display_name": "conda_amazonei_tensorflow_p36",
   "language": "python",
   "name": "conda_amazonei_tensorflow_p36"
  },
  "language_info": {
   "codemirror_mode": {
    "name": "ipython",
    "version": 3
   },
   "file_extension": ".py",
   "mimetype": "text/x-python",
   "name": "python",
   "nbconvert_exporter": "python",
   "pygments_lexer": "ipython3",
   "version": "3.6.10"
  }
 },
 "nbformat": 4,
 "nbformat_minor": 5
}
